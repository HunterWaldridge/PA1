{
 "cells": [
  {
   "cell_type": "code",
   "execution_count": null,
   "id": "2c6a47ad",
   "metadata": {},
   "outputs": [],
   "source": [
    "fnum = float(input(\"Enter a floating point number:\"))\n",
    "inum = int(input(\"Enter an integer:\"))\n",
    "print(\"The sum is\", fnum+inum)\n",
    "print(\"The difference is\", fnum-inum)\n",
    "print(\"The product is\", fnum*inum)\n",
    "print(\"The quotient is\", fnum/inum)"
   ]
  },
  {
   "cell_type": "markdown",
   "id": "e62c1c89",
   "metadata": {},
   "source": [
    "# Programming Assignment #1\n",
    "## Hunter Waldridge\n",
    "### Bellarmine University\n",
    "#### CS-150-02"
   ]
  },
  {
   "cell_type": "code",
   "execution_count": null,
   "id": "d029a3eb",
   "metadata": {},
   "outputs": [],
   "source": []
  }
 ],
 "metadata": {
  "kernelspec": {
   "display_name": "Python 3",
   "language": "python",
   "name": "python3"
  },
  "language_info": {
   "codemirror_mode": {
    "name": "ipython",
    "version": 3
   },
   "file_extension": ".py",
   "mimetype": "text/x-python",
   "name": "python",
   "nbconvert_exporter": "python",
   "pygments_lexer": "ipython3",
   "version": "3.8.8"
  }
 },
 "nbformat": 4,
 "nbformat_minor": 5
}
